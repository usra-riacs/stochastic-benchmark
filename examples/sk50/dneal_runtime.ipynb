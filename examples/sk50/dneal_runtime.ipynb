{
 "cells": [
  {
   "cell_type": "markdown",
   "metadata": {},
   "source": [
    "## Ising model\n",
    "This notebook will explain the basics of the Ising model. In order to implement the different Ising Models we will use D-Wave's packages **[dimod](https://github.com/dwavesystems/dimod)** and **[neal](https://github.com/dwavesystems/dwave-neal)**, for defining the Ising model and solving it with simulated annealing, respectively.\n",
    "#### Problem statement\n",
    "We pose the Ising problem as the following optimization problem:\n",
    "$$\n",
    "\\min_{\\sigma \\in \\{ -1,+1 \\}^n} H(\\sigma) =\\min_{\\sigma \\in \\{ -1,+1 \\}^n} \\sum_{(ij) \\in E(G)} J_{ij}\\sigma_i\\sigma_j + \\sum_{i \\in V(G)}h_i\\sigma_i + c_I\n",
    "$$\n",
    "where we optimize over spins $\\sigma \\in \\{ -1,+1 \\}^n$, on a constrained graph $G(V,E)$, where the quadratic coefficients are $J_{ij}$ and the linear coefficients are $h_i$. We also include an arbitrary offset of the Ising model $c_I$."
   ]
  },
  {
   "cell_type": "code",
   "execution_count": null,
   "metadata": {},
   "outputs": [],
   "source": [
    "# If using this on Google collab, we need to install the packages\n",
    "try:\n",
    "    import google.colab\n",
    "    IN_COLAB = True\n",
    "except:\n",
    "    IN_COLAB = False\n",
    "\n",
    "# Let's start with Pyomo, dimod and neal\n",
    "if IN_COLAB:\n",
    "    !pip install -q pyomo\n",
    "    !pip install dimod\n",
    "    !pip install dwave-neal"
   ]
  }
 ],
 "metadata": {
  "kernelspec": {
   "display_name": "Python 3.9.13 ('stochastic-benchmark')",
   "language": "python",
   "name": "python3"
  },
  "language_info": {
   "name": "python",
   "version": "3.9.13"
  },
  "orig_nbformat": 4,
  "vscode": {
   "interpreter": {
    "hash": "13996fb0482deea010ca83373b0a1e840b1f50c8f629d9170598de4fafeafe4f"
   }
  }
 },
 "nbformat": 4,
 "nbformat_minor": 2
}
